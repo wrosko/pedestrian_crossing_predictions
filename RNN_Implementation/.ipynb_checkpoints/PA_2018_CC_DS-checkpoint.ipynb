{
 "cells": [
  {
   "cell_type": "markdown",
   "metadata": {},
   "source": [
    "# Perceptive Automata Data Science Coding Challenge 2018\n",
    "\n",
    "## Introduction\n",
    "\n",
    "Hi, there! \n",
    "\n",
    "This is the Coding Challenge for the Summer 2018 Apprenticeship at Perceptive Automata. This challenge focuses primarily on software skills and machine learning. I've tried to minimize the amount of imports, but these are all fairly standard packages. If you find yourself spending lots of time installing things before you can even start, shoot me an email as that is not the point of this challenge, and I'll try to help you get up and coding faster as best I can.\n",
    "\n",
    "There are instructions throughout that should help guide you through the challenge.  You should be able to run all of the code on your machine, without any long runtimes. Also, if you find any errors or typos please be sure to email me at **avery@perceptiveautomata.com**. \n",
    "\n",
    "This should be inherently clear, but its worth reiterating: **all work should be your own!**  Please make sure your code is clear and commented so we understand what you did, and when you send the challenge back, include a brief description of your approach.\n",
    "\n",
    "We're excited to see what you come up with!  \n",
    "\n",
    "## Problems\n",
    "- [1. Rain Collection](#1.-Rain-Collection)\n",
    "- [2. Pedestrian Crossing Prediction](#2.-Pedestrian-Crossing-Prediction)"
   ]
  },
  {
   "cell_type": "markdown",
   "metadata": {},
   "source": [
    "### Imports"
   ]
  },
  {
   "cell_type": "code",
   "execution_count": 14,
   "metadata": {
    "collapsed": true
   },
   "outputs": [],
   "source": [
    "import ast\n",
    "import pandas as pd\n",
    "from sklearn.ensemble import RandomForestClassifier"
   ]
  },
  {
   "cell_type": "code",
   "execution_count": 2,
   "metadata": {
    "collapsed": false
   },
   "outputs": [],
   "source": [
    "# Older version of sklearn\n",
    "from sklearn.cross_validation import train_test_split\n",
    "\n",
    "# Newer versions of sklearn\n",
    "#from sklearn.model_selection import train_test_split"
   ]
  },
  {
   "cell_type": "markdown",
   "metadata": {},
   "source": [
    "# 1. Rain Collection\n",
    "\n",
    "In a 2D city, there are a series of rectangular buildings that are built one up against the other.  They all have flat roofs. However, since the buildings range in height, when it rains, the water collects on the roofs of buildings with taller buildings on both sides. \n",
    "\n",
    "The best way to see this is through a picture:\n",
    "\n",
    "![alt Rain Collection Diagram](rain_diagram.png)\n",
    "\n",
    "You can see how in the first picture, no water can be collected, since it will just run off.  In the second picture two units of water can be collected.  And if you add a 4-tall tower on the right side, you would get the result shown in the third picture.\n",
    "\n",
    "A researcher wants to know how much water is collected on all of the roofs when it rains.  Please help them by writing up a method that takes in an array of building heights, and efficiently calculates how much rain can be collected."
   ]
  },
  {
   "cell_type": "code",
   "execution_count": 3,
   "metadata": {
    "collapsed": false
   },
   "outputs": [],
   "source": [
    "def calculate_rain_collection(building_heights):\n",
    "    \"\"\"Calculate the amount of rain that can be stored on the roofs of the city.\n",
    "\n",
    "    :param building_heights: an ordered array of building heights\n",
    "    :return: the total amount of rain that can be captured\n",
    "    \"\"\"\n",
    "    \n",
    "    total_rain = 0\n",
    "    \n",
    "    # TODO: Write an efficient method that calculates how much rain can be stored\n",
    "\n",
    "    return total_rain"
   ]
  },
  {
   "cell_type": "markdown",
   "metadata": {},
   "source": [
    "## Tests\n",
    "\n",
    "Here are some basic tests, please feel free to add more tests of your own."
   ]
  },
  {
   "cell_type": "code",
   "execution_count": null,
   "metadata": {
    "collapsed": true
   },
   "outputs": [],
   "source": [
    "assert calculate_rain_collection([1]) == 0\n",
    "assert calculate_rain_collection([3,2,1]) == 0\n",
    "assert calculate_rain_collection([2,1,3,1,2]) == 2\n",
    "assert calculate_rain_collection([2,1,3,1,2,4,3]) == 4"
   ]
  },
  {
   "cell_type": "markdown",
   "metadata": {},
   "source": [
    "### Describe your solution"
   ]
  },
  {
   "cell_type": "markdown",
   "metadata": {},
   "source": [
    "\n",
    "\n",
    "(Write a few sentences here about what you did, any problems you had, how you fixed them, etc.)\n",
    "\n"
   ]
  },
  {
   "cell_type": "markdown",
   "metadata": {},
   "source": [
    "# 2. Pedestrian Crossing Prediction\n",
    "\n",
    "For the following problem, we use the opensource JAAD dataset which you can read more about here: http://data.nvision2.eecs.yorku.ca/JAAD_dataset/ if you are interested.\n",
    "\n",
    "The dataset consists of tracked people in some videos from a car's dashcam.  Each of these people have been carefully annotated with a bunch of different attributes, such as whether or not they are stopped or moving fast or moving slow.  For this problem we will try to predict whether or not the pedestrian crossed the street.  You will use the bounding boxes of the pedestrians along with the other actions that they take to try to predict this for a test set\n",
    "\n",
    "## Dataframe\n",
    "\n",
    "Each row of the dataframe that we construct for you consists of some meta data about the video id and the ped id so that you can match them up with the JAAD videos, and then an ordered list of frames where that pedestrian appears.  \n",
    "\n",
    "* frame_numbers - These should be continuous and there should be no gaps in these lists.  The other fields all align with the frame number field.\n",
    "* bounding_boxes - This field is a series of boxes that aligns with the frame_numbers field.  Each box is constructed of [box x, box y, box width, box height], where x and y represent the upper left hand corner of the box\n",
    "* moving_slow, stopped, handwave, look, clear path, moving fast, looking, standing, slow down, nod, speed up - The annotated attributes you will use to train the model, each is a list that aligns with the frame_numbers field of whether or not the attribute is true for that frame number\n",
    "* crossing - Whether or not the pedestrian is crossing for this corresponding frame number \n",
    "* cross_overall - This is the field that you will try to predict, it is whether or the person crossed at any point in the sequence"
   ]
  },
  {
   "cell_type": "code",
   "execution_count": 44,
   "metadata": {
    "collapsed": false
   },
   "outputs": [
    {
     "data": {
      "text/html": [
       "<div>\n",
       "<table border=\"1\" class=\"dataframe\">\n",
       "  <thead>\n",
       "    <tr style=\"text-align: right;\">\n",
       "      <th></th>\n",
       "      <th>video_id</th>\n",
       "      <th>ped_ind</th>\n",
       "      <th>frame_numbers</th>\n",
       "      <th>bounding_boxes</th>\n",
       "      <th>moving slow</th>\n",
       "      <th>stopped</th>\n",
       "      <th>handwave</th>\n",
       "      <th>look</th>\n",
       "      <th>clear path</th>\n",
       "      <th>crossing</th>\n",
       "      <th>moving fast</th>\n",
       "      <th>looking</th>\n",
       "      <th>standing</th>\n",
       "      <th>slow down</th>\n",
       "      <th>nod</th>\n",
       "      <th>speed up</th>\n",
       "      <th>cross_overall</th>\n",
       "    </tr>\n",
       "  </thead>\n",
       "  <tbody>\n",
       "    <tr>\n",
       "      <th>0</th>\n",
       "      <td>video_0071</td>\n",
       "      <td>1</td>\n",
       "      <td>[0, 1, 2, 3, 4, 5, 6, 7, 8, 9, 10, 11, 12, 13,...</td>\n",
       "      <td>[[1209, 598, 51, 191], [1214, 598, 52, 192], [...</td>\n",
       "      <td>[False, False, False, False, False, False, Fal...</td>\n",
       "      <td>[True, True, True, True, True, True, True, Tru...</td>\n",
       "      <td>[False, False, False, False, False, False, Fal...</td>\n",
       "      <td>[False, False, False, False, False, False, Fal...</td>\n",
       "      <td>[False, False, False, False, False, False, Fal...</td>\n",
       "      <td>[False, False, False, False, False, False, Fal...</td>\n",
       "      <td>[False, False, False, False, False, False, Fal...</td>\n",
       "      <td>[False, False, False, False, False, False, Fal...</td>\n",
       "      <td>[False, False, False, False, False, False, Fal...</td>\n",
       "      <td>[False, False, False, False, False, False, Fal...</td>\n",
       "      <td>[False, False, False, False, False, False, Fal...</td>\n",
       "      <td>[False, False, False, False, False, False, Fal...</td>\n",
       "      <td>False</td>\n",
       "    </tr>\n",
       "    <tr>\n",
       "      <th>1</th>\n",
       "      <td>video_0071</td>\n",
       "      <td>2</td>\n",
       "      <td>[0, 1, 2, 3, 4, 5, 6, 7, 8, 9, 10, 11, 12, 13,...</td>\n",
       "      <td>[[1249, 621, 51, 127], [1254, 620, 51, 129], [...</td>\n",
       "      <td>[True, True, True, True, True, True, True, Tru...</td>\n",
       "      <td>[False, False, False, False, False, False, Fal...</td>\n",
       "      <td>[False, False, False, False, False, False, Fal...</td>\n",
       "      <td>[False, False, False, False, False, False, Fal...</td>\n",
       "      <td>[False, False, False, False, False, False, Fal...</td>\n",
       "      <td>[False, False, False, False, False, False, Fal...</td>\n",
       "      <td>[False, False, False, False, False, False, Fal...</td>\n",
       "      <td>[True, True, True, True, True, True, True, Tru...</td>\n",
       "      <td>[False, False, False, False, False, False, Fal...</td>\n",
       "      <td>[False, False, False, False, False, False, Fal...</td>\n",
       "      <td>[False, False, False, False, False, False, Fal...</td>\n",
       "      <td>[False, False, False, False, False, False, Fal...</td>\n",
       "      <td>True</td>\n",
       "    </tr>\n",
       "    <tr>\n",
       "      <th>2</th>\n",
       "      <td>video_0204</td>\n",
       "      <td>1</td>\n",
       "      <td>[3, 4, 5, 6, 7, 8, 9, 10, 11, 12, 13, 14, 15, ...</td>\n",
       "      <td>[[1135, 673, 28, 97], [1139, 672, 29, 92], [11...</td>\n",
       "      <td>[False, False, False, False, False, False, Fal...</td>\n",
       "      <td>[False, False, False, False, False, False, Fal...</td>\n",
       "      <td>[False, False, False, False, False, False, Fal...</td>\n",
       "      <td>[False, False, False, False, False, False, Fal...</td>\n",
       "      <td>[False, False, False, False, False, False, Fal...</td>\n",
       "      <td>[True, True, True, True, True, True, True, Tru...</td>\n",
       "      <td>[False, False, False, False, False, False, Fal...</td>\n",
       "      <td>[False, False, False, False, False, False, Fal...</td>\n",
       "      <td>[False, False, False, False, False, False, Fal...</td>\n",
       "      <td>[False, False, False, False, False, False, Fal...</td>\n",
       "      <td>[False, False, False, False, False, False, Fal...</td>\n",
       "      <td>[False, False, False, False, False, False, Fal...</td>\n",
       "      <td>True</td>\n",
       "    </tr>\n",
       "    <tr>\n",
       "      <th>3</th>\n",
       "      <td>video_0204</td>\n",
       "      <td>3</td>\n",
       "      <td>[0, 1, 2, 3, 4, 5, 6, 7, 8, 9, 10, 11, 12, 13,...</td>\n",
       "      <td>[[906, 670, 35, 65], [906, 672, 32, 65], [907,...</td>\n",
       "      <td>[False, False, False, False, False, False, Fal...</td>\n",
       "      <td>[False, False, False, False, False, False, Fal...</td>\n",
       "      <td>[False, False, False, False, False, False, Fal...</td>\n",
       "      <td>[False, False, False, False, False, False, Fal...</td>\n",
       "      <td>[False, False, False, False, False, False, Fal...</td>\n",
       "      <td>[True, True, True, True, True, True, True, Tru...</td>\n",
       "      <td>[False, False, False, False, False, False, Fal...</td>\n",
       "      <td>[False, False, False, False, False, False, Fal...</td>\n",
       "      <td>[False, False, False, False, False, False, Fal...</td>\n",
       "      <td>[False, False, False, False, False, False, Fal...</td>\n",
       "      <td>[False, False, False, False, False, False, Fal...</td>\n",
       "      <td>[False, False, False, False, False, False, Fal...</td>\n",
       "      <td>True</td>\n",
       "    </tr>\n",
       "    <tr>\n",
       "      <th>4</th>\n",
       "      <td>video_0204</td>\n",
       "      <td>2</td>\n",
       "      <td>[0, 1, 2, 3, 4, 5, 6, 7, 8, 9, 10, 11, 12, 13,...</td>\n",
       "      <td>[[1152, 657, 42, 114], [1158, 657, 42, 117], [...</td>\n",
       "      <td>[False, False, False, False, False, False, Fal...</td>\n",
       "      <td>[True, True, True, True, True, True, True, Tru...</td>\n",
       "      <td>[False, False, False, False, False, False, Fal...</td>\n",
       "      <td>[False, False, False, False, False, False, Fal...</td>\n",
       "      <td>[False, False, False, False, False, False, Fal...</td>\n",
       "      <td>[False, False, False, False, False, False, Fal...</td>\n",
       "      <td>[False, False, False, False, False, False, Fal...</td>\n",
       "      <td>[True, True, True, True, True, True, True, Tru...</td>\n",
       "      <td>[False, False, False, False, False, False, Fal...</td>\n",
       "      <td>[False, False, False, False, False, False, Fal...</td>\n",
       "      <td>[False, False, False, False, False, False, Fal...</td>\n",
       "      <td>[False, False, False, False, False, False, Fal...</td>\n",
       "      <td>False</td>\n",
       "    </tr>\n",
       "  </tbody>\n",
       "</table>\n",
       "</div>"
      ],
      "text/plain": [
       "     video_id ped_ind                                      frame_numbers  \\\n",
       "0  video_0071       1  [0, 1, 2, 3, 4, 5, 6, 7, 8, 9, 10, 11, 12, 13,...   \n",
       "1  video_0071       2  [0, 1, 2, 3, 4, 5, 6, 7, 8, 9, 10, 11, 12, 13,...   \n",
       "2  video_0204       1  [3, 4, 5, 6, 7, 8, 9, 10, 11, 12, 13, 14, 15, ...   \n",
       "3  video_0204       3  [0, 1, 2, 3, 4, 5, 6, 7, 8, 9, 10, 11, 12, 13,...   \n",
       "4  video_0204       2  [0, 1, 2, 3, 4, 5, 6, 7, 8, 9, 10, 11, 12, 13,...   \n",
       "\n",
       "                                      bounding_boxes  \\\n",
       "0  [[1209, 598, 51, 191], [1214, 598, 52, 192], [...   \n",
       "1  [[1249, 621, 51, 127], [1254, 620, 51, 129], [...   \n",
       "2  [[1135, 673, 28, 97], [1139, 672, 29, 92], [11...   \n",
       "3  [[906, 670, 35, 65], [906, 672, 32, 65], [907,...   \n",
       "4  [[1152, 657, 42, 114], [1158, 657, 42, 117], [...   \n",
       "\n",
       "                                         moving slow  \\\n",
       "0  [False, False, False, False, False, False, Fal...   \n",
       "1  [True, True, True, True, True, True, True, Tru...   \n",
       "2  [False, False, False, False, False, False, Fal...   \n",
       "3  [False, False, False, False, False, False, Fal...   \n",
       "4  [False, False, False, False, False, False, Fal...   \n",
       "\n",
       "                                             stopped  \\\n",
       "0  [True, True, True, True, True, True, True, Tru...   \n",
       "1  [False, False, False, False, False, False, Fal...   \n",
       "2  [False, False, False, False, False, False, Fal...   \n",
       "3  [False, False, False, False, False, False, Fal...   \n",
       "4  [True, True, True, True, True, True, True, Tru...   \n",
       "\n",
       "                                            handwave  \\\n",
       "0  [False, False, False, False, False, False, Fal...   \n",
       "1  [False, False, False, False, False, False, Fal...   \n",
       "2  [False, False, False, False, False, False, Fal...   \n",
       "3  [False, False, False, False, False, False, Fal...   \n",
       "4  [False, False, False, False, False, False, Fal...   \n",
       "\n",
       "                                                look  \\\n",
       "0  [False, False, False, False, False, False, Fal...   \n",
       "1  [False, False, False, False, False, False, Fal...   \n",
       "2  [False, False, False, False, False, False, Fal...   \n",
       "3  [False, False, False, False, False, False, Fal...   \n",
       "4  [False, False, False, False, False, False, Fal...   \n",
       "\n",
       "                                          clear path  \\\n",
       "0  [False, False, False, False, False, False, Fal...   \n",
       "1  [False, False, False, False, False, False, Fal...   \n",
       "2  [False, False, False, False, False, False, Fal...   \n",
       "3  [False, False, False, False, False, False, Fal...   \n",
       "4  [False, False, False, False, False, False, Fal...   \n",
       "\n",
       "                                            crossing  \\\n",
       "0  [False, False, False, False, False, False, Fal...   \n",
       "1  [False, False, False, False, False, False, Fal...   \n",
       "2  [True, True, True, True, True, True, True, Tru...   \n",
       "3  [True, True, True, True, True, True, True, Tru...   \n",
       "4  [False, False, False, False, False, False, Fal...   \n",
       "\n",
       "                                         moving fast  \\\n",
       "0  [False, False, False, False, False, False, Fal...   \n",
       "1  [False, False, False, False, False, False, Fal...   \n",
       "2  [False, False, False, False, False, False, Fal...   \n",
       "3  [False, False, False, False, False, False, Fal...   \n",
       "4  [False, False, False, False, False, False, Fal...   \n",
       "\n",
       "                                             looking  \\\n",
       "0  [False, False, False, False, False, False, Fal...   \n",
       "1  [True, True, True, True, True, True, True, Tru...   \n",
       "2  [False, False, False, False, False, False, Fal...   \n",
       "3  [False, False, False, False, False, False, Fal...   \n",
       "4  [True, True, True, True, True, True, True, Tru...   \n",
       "\n",
       "                                            standing  \\\n",
       "0  [False, False, False, False, False, False, Fal...   \n",
       "1  [False, False, False, False, False, False, Fal...   \n",
       "2  [False, False, False, False, False, False, Fal...   \n",
       "3  [False, False, False, False, False, False, Fal...   \n",
       "4  [False, False, False, False, False, False, Fal...   \n",
       "\n",
       "                                           slow down  \\\n",
       "0  [False, False, False, False, False, False, Fal...   \n",
       "1  [False, False, False, False, False, False, Fal...   \n",
       "2  [False, False, False, False, False, False, Fal...   \n",
       "3  [False, False, False, False, False, False, Fal...   \n",
       "4  [False, False, False, False, False, False, Fal...   \n",
       "\n",
       "                                                 nod  \\\n",
       "0  [False, False, False, False, False, False, Fal...   \n",
       "1  [False, False, False, False, False, False, Fal...   \n",
       "2  [False, False, False, False, False, False, Fal...   \n",
       "3  [False, False, False, False, False, False, Fal...   \n",
       "4  [False, False, False, False, False, False, Fal...   \n",
       "\n",
       "                                            speed up cross_overall  \n",
       "0  [False, False, False, False, False, False, Fal...         False  \n",
       "1  [False, False, False, False, False, False, Fal...          True  \n",
       "2  [False, False, False, False, False, False, Fal...          True  \n",
       "3  [False, False, False, False, False, False, Fal...          True  \n",
       "4  [False, False, False, False, False, False, Fal...         False  "
      ]
     },
     "execution_count": 44,
     "metadata": {},
     "output_type": "execute_result"
    }
   ],
   "source": [
    "pedestrians_df = pd.read_csv('pedestrian_df.csv')\n",
    "for col_name in ['bounding_boxes', 'frame_numbers', 'moving slow', 'stopped', 'handwave', 'look', 'clear path', 'crossing', 'moving fast', 'looking', 'standing', 'slow down', 'nod', 'speed up']:\n",
    "    pedestrians_df[col_name] = pedestrians_df[col_name].apply(ast.literal_eval)\n",
    "pedestrians_df.head()"
   ]
  },
  {
   "cell_type": "code",
   "execution_count": 47,
   "metadata": {
    "collapsed": true
   },
   "outputs": [],
   "source": [
    "df = pedestrians_df.drop(['cross_overall', 'crossing'], axis=1)\n",
    "y = pedestrians_df['cross_overall']"
   ]
  },
  {
   "cell_type": "markdown",
   "metadata": {},
   "source": [
    "## Extract Features"
   ]
  },
  {
   "cell_type": "code",
   "execution_count": 48,
   "metadata": {
    "collapsed": false
   },
   "outputs": [],
   "source": [
    "def get_start_box_x(bounding_box_list):\n",
    "    return bounding_box_list[0][0]\n",
    "\n",
    "def did_attr(attr_list):\n",
    "    for attr in attr_list:\n",
    "        if attr:\n",
    "            return True\n",
    "        \n",
    "    return False\n",
    "\n",
    "df['start_box_x'] = df['bounding_boxes'].apply(get_start_box_x)\n",
    "df['did_nod'] = df['nod'].apply(did_attr)\n",
    "df['did_look'] = df['look'].apply(did_attr)"
   ]
  },
  {
   "cell_type": "code",
   "execution_count": 49,
   "metadata": {
    "collapsed": true
   },
   "outputs": [],
   "source": [
    "# <YOUR CODE HERE!>\n",
    "# You should extrat a whole bunch of features here and add them to 'X' below.\n",
    "# Please feel free to use anything from frame_numbers, bounding_boxes, or the attributes to train your model.  \n",
    "# Don't use 'cross_overall' or 'crossing' to train your model (obviously)."
   ]
  },
  {
   "cell_type": "code",
   "execution_count": 55,
   "metadata": {
    "collapsed": true
   },
   "outputs": [],
   "source": [
    "# Set up X\n",
    "X = df[['start_box_x', 'did_nod', 'did_look']]"
   ]
  },
  {
   "cell_type": "markdown",
   "metadata": {},
   "source": [
    "\n",
    "## Split Train and Validate Set"
   ]
  },
  {
   "cell_type": "code",
   "execution_count": 56,
   "metadata": {
    "collapsed": false
   },
   "outputs": [],
   "source": [
    "X_train, X_test, y_train, y_test = train_test_split(X, y, test_size=.33)"
   ]
  },
  {
   "cell_type": "markdown",
   "metadata": {},
   "source": [
    "## Make a Model"
   ]
  },
  {
   "cell_type": "code",
   "execution_count": 57,
   "metadata": {
    "collapsed": false
   },
   "outputs": [
    {
     "name": "stdout",
     "output_type": "stream",
     "text": [
      "[ 0.98171046  0.00364978  0.01463976]\n"
     ]
    }
   ],
   "source": [
    "RFC = RandomForestClassifier(n_estimators=10)\n",
    "RFC.fit(X_train, y_train)\n",
    "print RFC.feature_importances_"
   ]
  },
  {
   "cell_type": "code",
   "execution_count": 58,
   "metadata": {
    "collapsed": true
   },
   "outputs": [],
   "source": [
    "# <YOUR CODE HERE!>\n",
    "# You should try a whole bunch of different types of models and parameters"
   ]
  },
  {
   "cell_type": "markdown",
   "metadata": {},
   "source": [
    "## Test your Model\n",
    "\n",
    "How well did you do?"
   ]
  },
  {
   "cell_type": "code",
   "execution_count": 59,
   "metadata": {
    "collapsed": false
   },
   "outputs": [
    {
     "name": "stdout",
     "output_type": "stream",
     "text": [
      "Test Set Score: 0.677272727273\n"
     ]
    }
   ],
   "source": [
    "print 'Test Set Score:', RFC.score(X_test, y_test)"
   ]
  },
  {
   "cell_type": "markdown",
   "metadata": {},
   "source": [
    "## Analysis"
   ]
  },
  {
   "cell_type": "markdown",
   "metadata": {
    "collapsed": true
   },
   "source": [
    "\n",
    "\n",
    "Please write up a bit about what you did and your findings\n",
    "\n"
   ]
  }
 ],
 "metadata": {
  "kernelspec": {
   "display_name": "Python 2",
   "language": "python",
   "name": "python2"
  },
  "language_info": {
   "codemirror_mode": {
    "name": "ipython",
    "version": 2
   },
   "file_extension": ".py",
   "mimetype": "text/x-python",
   "name": "python",
   "nbconvert_exporter": "python",
   "pygments_lexer": "ipython2",
   "version": "2.7.12"
  }
 },
 "nbformat": 4,
 "nbformat_minor": 2
}
